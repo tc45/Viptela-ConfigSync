{
 "cells": [
  {
   "cell_type": "markdown",
   "id": "aaa8838e-5206-4ff1-bf2f-0dfc5be1539f",
   "metadata": {
    "jp-MarkdownHeadingCollapsed": true,
    "tags": []
   },
   "source": [
    "# Using Viptela ConfigSync\n",
    "The purpose of this lab is to help guide through the usage of the Viptela \n",
    "Config-Sync tool.\n",
    "\n",
    "Viptela ConfigSync is a common framework being developed intended to give a \n",
    "standards based approach to working with REST API for configuration tasks with \n",
    "network equipment.  ConfigSync comes pre-built with a few functions to serve \n",
    "as examples on building new purposes for the tool.  \n",
    "\n",
    "Viptela ConfigSync is composed of four files that will be used when interacting\n",
    " with devices: config_sync.py, viptela.py, helpers.py, and viptela.cfg. Each file \n",
    "has a unique purpose in this framework.\n",
    "\n",
    "### config_sync.py\n",
    "This file is the main program for the framework, and the file which will be launched\n",
    "when the application is ready.  All three other files are pulled into this file (.py files with \n",
    "import statements and .cfg file is being read as a YAML file into a dictionary).\n",
    "\n",
    "Launching the example config_sync will do a few automatic functions:\n",
    "1. Pull any arguments from the command line using the argparse library\n",
    "2. Enable logging using the logging library.  CLI argument --debug offers enhanced logging.\n",
    "3. Instantiate the ConfigSync object using the .cfg file specified on CLI or\n",
    "   'viptela.cfg' will be used as default.\n",
    "4. Run Example Commands:\n",
    "    * Get Device info for vedges and controllers from Vmanage\n",
    "      * Print vedge and controller data using table output in helper function\n",
    "    * Get all template info from Vmanage\n",
    "      * Print template info using helper function\n",
    "    * Get all running-config for vedge and controllers from Vmanage\n",
    "      * Save vedge and controller info to text file\n",
    "    \n",
    "### viptela.py\n",
    "This file houses all of the viptela related functions.  Any function, whether using \n",
    "the SDK or generic REST API calls should be made here.  Put any new functions under \n",
    "the ViptelaClient class to fully utilize common elements.  Initializing this class \n",
    "only instantiates the object.  You have to call the class function login() to get \n",
    "cookies and proper XSRF/CSRF tokens.  \n",
    "\n",
    "### helpers.py\n",
    "This file is used to contain all of the functions that manipulate data received.  This \n",
    "can be but not limited to saving data to files, printing data to console, exporting \n",
    "to CSV or Excel, or just computational functions.  The main purpose of helpers.py \n",
    "is to keep config_sync.py cleaner.\n",
    "\n",
    "### viptela.cfg\n",
    "All config parameters are kept in the .cfg file currently.  Future iterations will \n",
    "include getpass and environmental variable support.  Specify any required variables \n",
    "and include any additional variables that may be needed for your project.  This file \n",
    "is treated as a YAML file when imported into the application, and then converted to a \n",
    "dictionary.  Default configuration is shown below.  Variable names must be exact.\n",
    "```\n",
    "---\n",
    "viptela_host: '198.18.133.200'\n",
    "viptela_username: 'admin'\n",
    "viptela_password: 'admin'\n",
    "viptela_port: 8443\n",
    "```\n",
    "\n",
    "\n"
   ]
  },
  {
   "cell_type": "markdown",
   "id": "2590d23f-f860-44d7-bd8c-97166e57e1cf",
   "metadata": {},
   "source": [
    "# Run the application\n",
    "\n",
    "From a command line, run python config_sync.py.  \n",
    "\n",
    "For this lab, just click in the box below and click the PLAY &#9654; button in the toolbar above or press Shift+Enter .  This will launch the base script and display the actions described in the 'Example Commands' above.\n",
    "\n",
    "NOTE: Output is not formatted to fit Jupyter Lab screen. "
   ]
  },
  {
   "cell_type": "code",
   "execution_count": null,
   "id": "0a0be981-5f53-45b0-9ec9-e05df15efb59",
   "metadata": {},
   "outputs": [],
   "source": [
    "%run config_sync.py --debug"
   ]
  },
  {
   "cell_type": "markdown",
   "id": "2cdf5d35-f469-4c9f-bbcc-f2981647ec9a",
   "metadata": {},
   "source": [
    "# Conclusion\n",
    "\n",
    "That's the basic program there.  You should have seen a series of log messages indicating program status in <mark style= \"background-color:pink\">RED</mark>, a few tables which had info like device inventory and templates in use, and \n",
    "finally all of the configs will have been extracted and saved to disk in the /config directory.  The examples give us a reference point on HOW to build new components for the application.  To wrap up this lab module, \n",
    "Viptela ConfigSync provides us with a common framework among \n",
    "network API utilities to gather arguments, parse config files, and log data from a session.  In the next \n",
    "lab modules, we demonstrate how to expand on this capability by adding additional workflow via functions in each\n",
    "of the core python files.  \n",
    "\n",
    "If you want to **restart the script** to watch it again, on the menu bar click **Kernel** -> **Restart Kernel and Clear All Outputs** then follow instructions above.\n",
    "\n",
    "Continue to Lab 01 - Understanding workflow.ipynb"
   ]
  },
  {
   "cell_type": "code",
   "execution_count": null,
   "id": "5e488b58-4858-4e2c-af7b-5e8637a6a40d",
   "metadata": {},
   "outputs": [],
   "source": []
  }
 ],
 "metadata": {
  "kernelspec": {
   "display_name": "Python 3 (ipykernel)",
   "language": "python",
   "name": "python3"
  },
  "language_info": {
   "codemirror_mode": {
    "name": "ipython",
    "version": 3
   },
   "file_extension": ".py",
   "mimetype": "text/x-python",
   "name": "python",
   "nbconvert_exporter": "python",
   "pygments_lexer": "ipython3",
   "version": "3.7.6"
  }
 },
 "nbformat": 4,
 "nbformat_minor": 5
}
